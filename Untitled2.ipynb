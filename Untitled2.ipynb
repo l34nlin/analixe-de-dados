{
  "nbformat": 4,
  "nbformat_minor": 0,
  "metadata": {
    "colab": {
      "provenance": [],
      "toc_visible": true
    },
    "kernelspec": {
      "name": "python3",
      "display_name": "Python 3"
    },
    "language_info": {
      "name": "python"
    }
  },
  "cells": [
    {
      "cell_type": "code",
      "execution_count": 8,
      "metadata": {
        "id": "tttW3vZDDMkL"
      },
      "outputs": [],
      "source": [
        "import pandas as pd\n",
        "df = pd.read_csv('natacao.csv');"
      ]
    },
    {
      "cell_type": "markdown",
      "source": [
        "1- variaveis estaticas sao=\n",
        "sede: Categorico,ano:continuas,Distancia:continuas,estilo:Categorico,revesamento:continuas,genero:categorico,equipe:Categorica,atleta:categorico,tempo:continuas,POsicao:ordinais."
      ],
      "metadata": {
        "id": "x0UcXGuEibHv"
      }
    },
    {
      "cell_type": "markdown",
      "source": [
        "2- ano - se eu quero saber a posicao que mais os participantes ficaram colocados seria \"moda\".\n"
      ],
      "metadata": {
        "id": "b9GFNr2RR7b6"
      }
    },
    {
      "cell_type": "code",
      "source": [
        "df.info()"
      ],
      "metadata": {
        "colab": {
          "base_uri": "https://localhost:8080/"
        },
        "id": "Qf-lr2kzOUcn",
        "outputId": "53a8a73a-0db7-4949-c70e-d4c82450c5ad"
      },
      "execution_count": 17,
      "outputs": [
        {
          "output_type": "stream",
          "name": "stdout",
          "text": [
            "<class 'pandas.core.frame.DataFrame'>\n",
            "RangeIndex: 4359 entries, 0 to 4358\n",
            "Data columns (total 10 columns):\n",
            " #   Column        Non-Null Count  Dtype \n",
            "---  ------        --------------  ----- \n",
            " 0   Sede          4359 non-null   object\n",
            " 1   Ano           4359 non-null   int64 \n",
            " 2   Distancia     4359 non-null   object\n",
            " 3   Estilo        4359 non-null   object\n",
            " 4   Revesamento?  4359 non-null   int64 \n",
            " 5   Genero        4359 non-null   object\n",
            " 6   Equipe        4359 non-null   object\n",
            " 7   Atleta        4345 non-null   object\n",
            " 8   Tempo         4331 non-null   object\n",
            " 9   Posicao       4359 non-null   int64 \n",
            "dtypes: int64(3), object(7)\n",
            "memory usage: 340.7+ KB\n"
          ]
        }
      ]
    },
    {
      "cell_type": "code",
      "source": [
        "df.mean()"
      ],
      "metadata": {
        "colab": {
          "base_uri": "https://localhost:8080/"
        },
        "id": "vYlGj8-bObXC",
        "outputId": "af82f52e-fccb-4940-a091-afde5450dff9"
      },
      "execution_count": 19,
      "outputs": [
        {
          "output_type": "stream",
          "name": "stderr",
          "text": [
            "<ipython-input-19-c61f0c8f89b5>:1: FutureWarning: The default value of numeric_only in DataFrame.mean is deprecated. In a future version, it will default to False. In addition, specifying 'numeric_only=None' is deprecated. Select only valid columns or specify the value of numeric_only to silence this warning.\n",
            "  df.mean()\n"
          ]
        },
        {
          "output_type": "execute_result",
          "data": {
            "text/plain": [
              "Ano             1982.936453\n",
              "Revesamento?       0.169764\n",
              "Posicao            3.164946\n",
              "dtype: float64"
            ]
          },
          "metadata": {},
          "execution_count": 19
        }
      ]
    },
    {
      "cell_type": "code",
      "source": [
        "df.head(5000)\n"
      ],
      "metadata": {
        "colab": {
          "base_uri": "https://localhost:8080/",
          "height": 641
        },
        "id": "jW8gBxuIEg4T",
        "outputId": "1b5cd197-31c5-4a3d-b9b9-ea67bd8387eb"
      },
      "execution_count": 22,
      "outputs": [
        {
          "output_type": "execute_result",
          "data": {
            "text/plain": [
              "           Sede   Ano Distancia  Estilo  Revesamento?     Genero Equipe  \\\n",
              "0         Tokyo  2020      100m  Costas             0  Masculino    ROC   \n",
              "1         Tokyo  2020      100m  Costas             0  Masculino    ROC   \n",
              "2         Tokyo  2020      100m  Costas             0  Masculino    USA   \n",
              "3         Tokyo  2020      100m  Costas             0  Masculino    ITA   \n",
              "4         Tokyo  2020      100m  Costas             0  Masculino    CHN   \n",
              "...         ...   ...       ...     ...           ...        ...    ...   \n",
              "4354  Stockholm  1912     4x100   Livre             1   Feminino    SWE   \n",
              "4355  Stockholm  1912     4x200   Livre             1  Masculino    AUS   \n",
              "4356  Stockholm  1912     4x200   Livre             1  Masculino    USA   \n",
              "4357  Stockholm  1912     4x200   Livre             1  Masculino    GBR   \n",
              "4358  Stockholm  1912     4x200   Livre             1  Masculino    GER   \n",
              "\n",
              "                                                 Atleta            Tempo  \\\n",
              "0                                          Evgeny Rylov            51.98   \n",
              "1                                    Kliment Kolesnikov               52   \n",
              "2                                           Ryan Murphy            52.19   \n",
              "3                                         Thomas Ceccon             52.3   \n",
              "4                                              Jiayu Xu            52.51   \n",
              "...                                                 ...              ...   \n",
              "4354  Greta Carlsson, Vera Thulin, Sonja Johnsson, G...              NaN   \n",
              "4355  Malcolm Champion, Cecil Healy, Harold H. Hardw...  00:10:11.200000   \n",
              "4356  Duke Paoa Kahanamoku, Harry J. Hebner, Perry M...  00:10:20.200000   \n",
              "4357  Thomas Sidney Battersby, Henry Taylor, John Ga...  00:10:28.600000   \n",
              "4358  Georg Kunisch, Kurt Bretting, Oscar Schiele, M...  00:10:37.000000   \n",
              "\n",
              "      Posicao  \n",
              "0           1  \n",
              "1           2  \n",
              "2           3  \n",
              "3           4  \n",
              "4           4  \n",
              "...       ...  \n",
              "4354        5  \n",
              "4355        1  \n",
              "4356        2  \n",
              "4357        3  \n",
              "4358        4  \n",
              "\n",
              "[4359 rows x 10 columns]"
            ],
            "text/html": [
              "\n",
              "  <div id=\"df-be6eb9ad-f951-4358-b30b-31f653556790\">\n",
              "    <div class=\"colab-df-container\">\n",
              "      <div>\n",
              "<style scoped>\n",
              "    .dataframe tbody tr th:only-of-type {\n",
              "        vertical-align: middle;\n",
              "    }\n",
              "\n",
              "    .dataframe tbody tr th {\n",
              "        vertical-align: top;\n",
              "    }\n",
              "\n",
              "    .dataframe thead th {\n",
              "        text-align: right;\n",
              "    }\n",
              "</style>\n",
              "<table border=\"1\" class=\"dataframe\">\n",
              "  <thead>\n",
              "    <tr style=\"text-align: right;\">\n",
              "      <th></th>\n",
              "      <th>Sede</th>\n",
              "      <th>Ano</th>\n",
              "      <th>Distancia</th>\n",
              "      <th>Estilo</th>\n",
              "      <th>Revesamento?</th>\n",
              "      <th>Genero</th>\n",
              "      <th>Equipe</th>\n",
              "      <th>Atleta</th>\n",
              "      <th>Tempo</th>\n",
              "      <th>Posicao</th>\n",
              "    </tr>\n",
              "  </thead>\n",
              "  <tbody>\n",
              "    <tr>\n",
              "      <th>0</th>\n",
              "      <td>Tokyo</td>\n",
              "      <td>2020</td>\n",
              "      <td>100m</td>\n",
              "      <td>Costas</td>\n",
              "      <td>0</td>\n",
              "      <td>Masculino</td>\n",
              "      <td>ROC</td>\n",
              "      <td>Evgeny Rylov</td>\n",
              "      <td>51.98</td>\n",
              "      <td>1</td>\n",
              "    </tr>\n",
              "    <tr>\n",
              "      <th>1</th>\n",
              "      <td>Tokyo</td>\n",
              "      <td>2020</td>\n",
              "      <td>100m</td>\n",
              "      <td>Costas</td>\n",
              "      <td>0</td>\n",
              "      <td>Masculino</td>\n",
              "      <td>ROC</td>\n",
              "      <td>Kliment Kolesnikov</td>\n",
              "      <td>52</td>\n",
              "      <td>2</td>\n",
              "    </tr>\n",
              "    <tr>\n",
              "      <th>2</th>\n",
              "      <td>Tokyo</td>\n",
              "      <td>2020</td>\n",
              "      <td>100m</td>\n",
              "      <td>Costas</td>\n",
              "      <td>0</td>\n",
              "      <td>Masculino</td>\n",
              "      <td>USA</td>\n",
              "      <td>Ryan Murphy</td>\n",
              "      <td>52.19</td>\n",
              "      <td>3</td>\n",
              "    </tr>\n",
              "    <tr>\n",
              "      <th>3</th>\n",
              "      <td>Tokyo</td>\n",
              "      <td>2020</td>\n",
              "      <td>100m</td>\n",
              "      <td>Costas</td>\n",
              "      <td>0</td>\n",
              "      <td>Masculino</td>\n",
              "      <td>ITA</td>\n",
              "      <td>Thomas Ceccon</td>\n",
              "      <td>52.3</td>\n",
              "      <td>4</td>\n",
              "    </tr>\n",
              "    <tr>\n",
              "      <th>4</th>\n",
              "      <td>Tokyo</td>\n",
              "      <td>2020</td>\n",
              "      <td>100m</td>\n",
              "      <td>Costas</td>\n",
              "      <td>0</td>\n",
              "      <td>Masculino</td>\n",
              "      <td>CHN</td>\n",
              "      <td>Jiayu Xu</td>\n",
              "      <td>52.51</td>\n",
              "      <td>4</td>\n",
              "    </tr>\n",
              "    <tr>\n",
              "      <th>...</th>\n",
              "      <td>...</td>\n",
              "      <td>...</td>\n",
              "      <td>...</td>\n",
              "      <td>...</td>\n",
              "      <td>...</td>\n",
              "      <td>...</td>\n",
              "      <td>...</td>\n",
              "      <td>...</td>\n",
              "      <td>...</td>\n",
              "      <td>...</td>\n",
              "    </tr>\n",
              "    <tr>\n",
              "      <th>4354</th>\n",
              "      <td>Stockholm</td>\n",
              "      <td>1912</td>\n",
              "      <td>4x100</td>\n",
              "      <td>Livre</td>\n",
              "      <td>1</td>\n",
              "      <td>Feminino</td>\n",
              "      <td>SWE</td>\n",
              "      <td>Greta Carlsson, Vera Thulin, Sonja Johnsson, G...</td>\n",
              "      <td>NaN</td>\n",
              "      <td>5</td>\n",
              "    </tr>\n",
              "    <tr>\n",
              "      <th>4355</th>\n",
              "      <td>Stockholm</td>\n",
              "      <td>1912</td>\n",
              "      <td>4x200</td>\n",
              "      <td>Livre</td>\n",
              "      <td>1</td>\n",
              "      <td>Masculino</td>\n",
              "      <td>AUS</td>\n",
              "      <td>Malcolm Champion, Cecil Healy, Harold H. Hardw...</td>\n",
              "      <td>00:10:11.200000</td>\n",
              "      <td>1</td>\n",
              "    </tr>\n",
              "    <tr>\n",
              "      <th>4356</th>\n",
              "      <td>Stockholm</td>\n",
              "      <td>1912</td>\n",
              "      <td>4x200</td>\n",
              "      <td>Livre</td>\n",
              "      <td>1</td>\n",
              "      <td>Masculino</td>\n",
              "      <td>USA</td>\n",
              "      <td>Duke Paoa Kahanamoku, Harry J. Hebner, Perry M...</td>\n",
              "      <td>00:10:20.200000</td>\n",
              "      <td>2</td>\n",
              "    </tr>\n",
              "    <tr>\n",
              "      <th>4357</th>\n",
              "      <td>Stockholm</td>\n",
              "      <td>1912</td>\n",
              "      <td>4x200</td>\n",
              "      <td>Livre</td>\n",
              "      <td>1</td>\n",
              "      <td>Masculino</td>\n",
              "      <td>GBR</td>\n",
              "      <td>Thomas Sidney Battersby, Henry Taylor, John Ga...</td>\n",
              "      <td>00:10:28.600000</td>\n",
              "      <td>3</td>\n",
              "    </tr>\n",
              "    <tr>\n",
              "      <th>4358</th>\n",
              "      <td>Stockholm</td>\n",
              "      <td>1912</td>\n",
              "      <td>4x200</td>\n",
              "      <td>Livre</td>\n",
              "      <td>1</td>\n",
              "      <td>Masculino</td>\n",
              "      <td>GER</td>\n",
              "      <td>Georg Kunisch, Kurt Bretting, Oscar Schiele, M...</td>\n",
              "      <td>00:10:37.000000</td>\n",
              "      <td>4</td>\n",
              "    </tr>\n",
              "  </tbody>\n",
              "</table>\n",
              "<p>4359 rows × 10 columns</p>\n",
              "</div>\n",
              "      <button class=\"colab-df-convert\" onclick=\"convertToInteractive('df-be6eb9ad-f951-4358-b30b-31f653556790')\"\n",
              "              title=\"Convert this dataframe to an interactive table.\"\n",
              "              style=\"display:none;\">\n",
              "        \n",
              "  <svg xmlns=\"http://www.w3.org/2000/svg\" height=\"24px\"viewBox=\"0 0 24 24\"\n",
              "       width=\"24px\">\n",
              "    <path d=\"M0 0h24v24H0V0z\" fill=\"none\"/>\n",
              "    <path d=\"M18.56 5.44l.94 2.06.94-2.06 2.06-.94-2.06-.94-.94-2.06-.94 2.06-2.06.94zm-11 1L8.5 8.5l.94-2.06 2.06-.94-2.06-.94L8.5 2.5l-.94 2.06-2.06.94zm10 10l.94 2.06.94-2.06 2.06-.94-2.06-.94-.94-2.06-.94 2.06-2.06.94z\"/><path d=\"M17.41 7.96l-1.37-1.37c-.4-.4-.92-.59-1.43-.59-.52 0-1.04.2-1.43.59L10.3 9.45l-7.72 7.72c-.78.78-.78 2.05 0 2.83L4 21.41c.39.39.9.59 1.41.59.51 0 1.02-.2 1.41-.59l7.78-7.78 2.81-2.81c.8-.78.8-2.07 0-2.86zM5.41 20L4 18.59l7.72-7.72 1.47 1.35L5.41 20z\"/>\n",
              "  </svg>\n",
              "      </button>\n",
              "      \n",
              "  <style>\n",
              "    .colab-df-container {\n",
              "      display:flex;\n",
              "      flex-wrap:wrap;\n",
              "      gap: 12px;\n",
              "    }\n",
              "\n",
              "    .colab-df-convert {\n",
              "      background-color: #E8F0FE;\n",
              "      border: none;\n",
              "      border-radius: 50%;\n",
              "      cursor: pointer;\n",
              "      display: none;\n",
              "      fill: #1967D2;\n",
              "      height: 32px;\n",
              "      padding: 0 0 0 0;\n",
              "      width: 32px;\n",
              "    }\n",
              "\n",
              "    .colab-df-convert:hover {\n",
              "      background-color: #E2EBFA;\n",
              "      box-shadow: 0px 1px 2px rgba(60, 64, 67, 0.3), 0px 1px 3px 1px rgba(60, 64, 67, 0.15);\n",
              "      fill: #174EA6;\n",
              "    }\n",
              "\n",
              "    [theme=dark] .colab-df-convert {\n",
              "      background-color: #3B4455;\n",
              "      fill: #D2E3FC;\n",
              "    }\n",
              "\n",
              "    [theme=dark] .colab-df-convert:hover {\n",
              "      background-color: #434B5C;\n",
              "      box-shadow: 0px 1px 3px 1px rgba(0, 0, 0, 0.15);\n",
              "      filter: drop-shadow(0px 1px 2px rgba(0, 0, 0, 0.3));\n",
              "      fill: #FFFFFF;\n",
              "    }\n",
              "  </style>\n",
              "\n",
              "      <script>\n",
              "        const buttonEl =\n",
              "          document.querySelector('#df-be6eb9ad-f951-4358-b30b-31f653556790 button.colab-df-convert');\n",
              "        buttonEl.style.display =\n",
              "          google.colab.kernel.accessAllowed ? 'block' : 'none';\n",
              "\n",
              "        async function convertToInteractive(key) {\n",
              "          const element = document.querySelector('#df-be6eb9ad-f951-4358-b30b-31f653556790');\n",
              "          const dataTable =\n",
              "            await google.colab.kernel.invokeFunction('convertToInteractive',\n",
              "                                                     [key], {});\n",
              "          if (!dataTable) return;\n",
              "\n",
              "          const docLinkHtml = 'Like what you see? Visit the ' +\n",
              "            '<a target=\"_blank\" href=https://colab.research.google.com/notebooks/data_table.ipynb>data table notebook</a>'\n",
              "            + ' to learn more about interactive tables.';\n",
              "          element.innerHTML = '';\n",
              "          dataTable['output_type'] = 'display_data';\n",
              "          await google.colab.output.renderOutput(dataTable, element);\n",
              "          const docLink = document.createElement('div');\n",
              "          docLink.innerHTML = docLinkHtml;\n",
              "          element.appendChild(docLink);\n",
              "        }\n",
              "      </script>\n",
              "    </div>\n",
              "  </div>\n",
              "  "
            ]
          },
          "metadata": {},
          "execution_count": 22
        }
      ]
    },
    {
      "cell_type": "markdown",
      "source": [],
      "metadata": {
        "id": "ZQX6z04DGRHg"
      }
    },
    {
      "cell_type": "code",
      "source": [
        "df.mean()\n"
      ],
      "metadata": {
        "colab": {
          "base_uri": "https://localhost:8080/"
        },
        "id": "DRgY4fd7JB_5",
        "outputId": "2960e1c5-c3c3-4ad3-cfd5-52dda952d2b3"
      },
      "execution_count": 10,
      "outputs": [
        {
          "output_type": "stream",
          "name": "stderr",
          "text": [
            "<ipython-input-10-c61f0c8f89b5>:1: FutureWarning: The default value of numeric_only in DataFrame.mean is deprecated. In a future version, it will default to False. In addition, specifying 'numeric_only=None' is deprecated. Select only valid columns or specify the value of numeric_only to silence this warning.\n",
            "  df.mean()\n"
          ]
        },
        {
          "output_type": "execute_result",
          "data": {
            "text/plain": [
              "Ano             1982.936453\n",
              "Revesamento?       0.169764\n",
              "Posicao            3.164946\n",
              "dtype: float64"
            ]
          },
          "metadata": {},
          "execution_count": 10
        }
      ]
    },
    {
      "cell_type": "code",
      "source": [
        "df.c"
      ],
      "metadata": {
        "id": "amHBOtuCNmge"
      },
      "execution_count": null,
      "outputs": []
    },
    {
      "cell_type": "code",
      "source": [
        "df['Genero']=='Masculino'"
      ],
      "metadata": {
        "colab": {
          "base_uri": "https://localhost:8080/"
        },
        "id": "TLBBC_zUOos8",
        "outputId": "243b43bf-86b1-4e0f-b243-f6da771a5456"
      },
      "execution_count": 20,
      "outputs": [
        {
          "output_type": "execute_result",
          "data": {
            "text/plain": [
              "0        True\n",
              "1        True\n",
              "2        True\n",
              "3        True\n",
              "4        True\n",
              "        ...  \n",
              "4354    False\n",
              "4355     True\n",
              "4356     True\n",
              "4357     True\n",
              "4358     True\n",
              "Name: Genero, Length: 4359, dtype: bool"
            ]
          },
          "metadata": {},
          "execution_count": 20
        }
      ]
    },
    {
      "cell_type": "code",
      "source": [
        "atletaMasculino =df.loc[df['Genero']== 'Masculino']\n",
        "atletaMasculino.value_counts('Atleta')"
      ],
      "metadata": {
        "colab": {
          "base_uri": "https://localhost:8080/"
        },
        "id": "40dqYznfS9Xj",
        "outputId": "c715cece-e686-4bf9-ee6c-a5d204d1acfc"
      },
      "execution_count": 24,
      "outputs": [
        {
          "output_type": "execute_result",
          "data": {
            "text/plain": [
              "Atleta\n",
              "Michael Phelps                                                                         18\n",
              "Laszlo Cseh                                                                            10\n",
              "Ryan Lochte                                                                             9\n",
              "Pieter Van Den Hoogenband                                                               8\n",
              "Grant Hackett                                                                           8\n",
              "                                                                                       ..\n",
              "Igor Grivennikov, Viktor Mazanov, Vladimir Bure, Aleksandr Samsonov, Viktor Aboimov     1\n",
              "Igor Chervynskiy                                                                        1\n",
              "Igor Cherdakov                                                                          1\n",
              "Ian Wilson                                                                              1\n",
              "Émile Thienpondt                                                                        1\n",
              "Length: 1504, dtype: int64"
            ]
          },
          "metadata": {},
          "execution_count": 24
        }
      ]
    },
    {
      "cell_type": "markdown",
      "source": [
        "3- michael Phelps, 18 vezes ele participou"
      ],
      "metadata": {
        "id": "HexL9RjyUFuS"
      }
    },
    {
      "cell_type": "code",
      "source": [
        "atletaFeminino = df.loc[df['Genero']== 'Feminino']\n",
        "atletaFeminino.value_counts('Atleta')"
      ],
      "metadata": {
        "colab": {
          "base_uri": "https://localhost:8080/"
        },
        "id": "L9hNTe12UPCH",
        "outputId": "1e2c9386-4fe0-43e7-e1e1-d2ec417df785"
      },
      "execution_count": 25,
      "outputs": [
        {
          "output_type": "execute_result",
          "data": {
            "text/plain": [
              "Atleta\n",
              "Kirsty Leigh Coventry                                                               10\n",
              "Katie Ledecky                                                                        9\n",
              "Susan O'Neill                                                                        8\n",
              "Conny Van Bentum                                                                     8\n",
              "Shirley Farber Babashoff                                                             7\n",
              "                                                                                    ..\n",
              "Jenny Wylie                                                                          1\n",
              "Jess Lloyd, Rebecca Turner, Amy Smith, Caitlin Mcclatchey, Francesca Halsall         1\n",
              "Jessica Ashwood, Bronte Barratt, Emma Mckeon, Tamsin Cook, Leah Neale                1\n",
              "Jessica Deglau                                                                       1\n",
              "Zsuzsanna Jakabos, Evelin Verraszto, Ajna Kesely, Boglarka Kapas, Katinka Hosszu     1\n",
              "Length: 1317, dtype: int64"
            ]
          },
          "metadata": {},
          "execution_count": 25
        }
      ]
    },
    {
      "cell_type": "markdown",
      "source": [
        "4-kirsty participou 10 vzs."
      ],
      "metadata": {
        "id": "hAX8ceuSVIKd"
      }
    },
    {
      "cell_type": "code",
      "source": [
        "posicao3=df.loc[df['Posicao']==3]\n",
        "posicao3.value_counts('Equipe')\n"
      ],
      "metadata": {
        "colab": {
          "base_uri": "https://localhost:8080/"
        },
        "id": "MEOAfTq8VaIp",
        "outputId": "9f0742c5-514f-4ac1-9dc9-4efe5789f3db"
      },
      "execution_count": 31,
      "outputs": [
        {
          "output_type": "execute_result",
          "data": {
            "text/plain": [
              "Equipe\n",
              "USA              138\n",
              "AUS               70\n",
              "GER               40\n",
              "JPN               31\n",
              "GBR               30\n",
              "CAN               28\n",
              "GDR               21\n",
              "URS               19\n",
              "HUN               19\n",
              "SWE               17\n",
              "NED               16\n",
              "FRA               16\n",
              "ITA               14\n",
              "CHN               12\n",
              "RUS               10\n",
              "BRA                9\n",
              "NLD                7\n",
              "FRG                7\n",
              "RSA                6\n",
              "SUN                6\n",
              "DEN                6\n",
              "ESP                4\n",
              "ROU                4\n",
              "NZL                3\n",
              "FIN                3\n",
              "PHI                2\n",
              "SUI                2\n",
              "ZAF                2\n",
              "POL                2\n",
              "ANZ                2\n",
              "UKR                2\n",
              "CRC                2\n",
              "Unified Team       1\n",
              "TTO                1\n",
              "VEN                1\n",
              "TUN                1\n",
              "SUR                1\n",
              "MEX                1\n",
              "ROC                1\n",
              "NOR                1\n",
              "ARG                1\n",
              "IRL                1\n",
              "CUB                1\n",
              "BUL                1\n",
              "BLR                1\n",
              "BEL                1\n",
              "AUT                1\n",
              "ZIM                1\n",
              "dtype: int64"
            ]
          },
          "metadata": {},
          "execution_count": 31
        }
      ]
    },
    {
      "cell_type": "markdown",
      "source": [
        "5-usa"
      ],
      "metadata": {
        "id": "QY3viKzYXqT1"
      }
    },
    {
      "cell_type": "code",
      "source": [
        "df['Distancia'].str.replace('m','')\n",
        "df.value_counts('Distancia')"
      ],
      "metadata": {
        "colab": {
          "base_uri": "https://localhost:8080/"
        },
        "id": "IVqydTXLXukF",
        "outputId": "228b0876-f085-4617-9859-ed438e491527"
      },
      "execution_count": 33,
      "outputs": [
        {
          "output_type": "execute_result",
          "data": {
            "text/plain": [
              "0         100\n",
              "1         100\n",
              "2         100\n",
              "3         100\n",
              "4         100\n",
              "        ...  \n",
              "4354    4x100\n",
              "4355    4x200\n",
              "4356    4x200\n",
              "4357    4x200\n",
              "4358    4x200\n",
              "Name: Distancia, Length: 4359, dtype: object"
            ]
          },
          "metadata": {},
          "execution_count": 33
        }
      ]
    },
    {
      "cell_type": "code",
      "source": [
        "#df['Distancia']=df['Distancia'].str.replace('m','')\n",
        "#df['Distancia']=df['Distancia'].str.replace('4x100','400')\n",
        "#df['Distancia']=df['Distancia'].str.replace('4x200','800')\n",
        "#df['Distancia']= df['Distancia'].astype('int64')\n",
        "df['Distancia'].mean()"
      ],
      "metadata": {
        "colab": {
          "base_uri": "https://localhost:8080/"
        },
        "id": "zYzsLonBaJbn",
        "outputId": "6d74705d-ceb8-475e-8dac-81dd41502f26"
      },
      "execution_count": 40,
      "outputs": [
        {
          "output_type": "execute_result",
          "data": {
            "text/plain": [
              "328.722183987153"
            ]
          },
          "metadata": {},
          "execution_count": 40
        }
      ]
    },
    {
      "cell_type": "markdown",
      "source": [
        "6- 328.7 esqueci a pergunta mas e esse o resultado"
      ],
      "metadata": {
        "id": "lp05wW_Oebgx"
      }
    },
    {
      "cell_type": "code",
      "source": [
        "df['CategoriaDistancia']=''"
      ],
      "metadata": {
        "id": "qGA0dGq0sSWC"
      },
      "execution_count": 42,
      "outputs": []
    },
    {
      "cell_type": "code",
      "source": [
        "df.loc[df['Distancia']<=200,'CategoriaDistancia']= 'curta'\n",
        "\n"
      ],
      "metadata": {
        "id": "y_T2RdGRc1zj"
      },
      "execution_count": 43,
      "outputs": []
    },
    {
      "cell_type": "code",
      "source": [
        "df.loc[df['Distancia'].between(201,600),'CategoriaDistancia']= 'media'\n"
      ],
      "metadata": {
        "id": "uHCktI0-qgKI"
      },
      "execution_count": 44,
      "outputs": []
    },
    {
      "cell_type": "code",
      "source": [
        "df.loc[df['Distancia']>=601,'CategoriaDistancia']='longa'"
      ],
      "metadata": {
        "id": "xgYrC8hRscbI"
      },
      "execution_count": 45,
      "outputs": []
    },
    {
      "cell_type": "code",
      "source": [
        "df"
      ],
      "metadata": {
        "colab": {
          "base_uri": "https://localhost:8080/",
          "height": 887
        },
        "id": "eVXoH0NotN2o",
        "outputId": "9fab9426-f48c-4d37-dec9-14c6a8ea20a3"
      },
      "execution_count": 46,
      "outputs": [
        {
          "output_type": "execute_result",
          "data": {
            "text/plain": [
              "           Sede   Ano  Distancia  Estilo  Revesamento?     Genero Equipe  \\\n",
              "0         Tokyo  2020        100  Costas             0  Masculino    ROC   \n",
              "1         Tokyo  2020        100  Costas             0  Masculino    ROC   \n",
              "2         Tokyo  2020        100  Costas             0  Masculino    USA   \n",
              "3         Tokyo  2020        100  Costas             0  Masculino    ITA   \n",
              "4         Tokyo  2020        100  Costas             0  Masculino    CHN   \n",
              "...         ...   ...        ...     ...           ...        ...    ...   \n",
              "4354  Stockholm  1912        400   Livre             1   Feminino    SWE   \n",
              "4355  Stockholm  1912        800   Livre             1  Masculino    AUS   \n",
              "4356  Stockholm  1912        800   Livre             1  Masculino    USA   \n",
              "4357  Stockholm  1912        800   Livre             1  Masculino    GBR   \n",
              "4358  Stockholm  1912        800   Livre             1  Masculino    GER   \n",
              "\n",
              "                                                 Atleta            Tempo  \\\n",
              "0                                          Evgeny Rylov            51.98   \n",
              "1                                    Kliment Kolesnikov               52   \n",
              "2                                           Ryan Murphy            52.19   \n",
              "3                                         Thomas Ceccon             52.3   \n",
              "4                                              Jiayu Xu            52.51   \n",
              "...                                                 ...              ...   \n",
              "4354  Greta Carlsson, Vera Thulin, Sonja Johnsson, G...              NaN   \n",
              "4355  Malcolm Champion, Cecil Healy, Harold H. Hardw...  00:10:11.200000   \n",
              "4356  Duke Paoa Kahanamoku, Harry J. Hebner, Perry M...  00:10:20.200000   \n",
              "4357  Thomas Sidney Battersby, Henry Taylor, John Ga...  00:10:28.600000   \n",
              "4358  Georg Kunisch, Kurt Bretting, Oscar Schiele, M...  00:10:37.000000   \n",
              "\n",
              "      Posicao CategoriaDistancia  \n",
              "0           1              curta  \n",
              "1           2              curta  \n",
              "2           3              curta  \n",
              "3           4              curta  \n",
              "4           4              curta  \n",
              "...       ...                ...  \n",
              "4354        5              media  \n",
              "4355        1              longa  \n",
              "4356        2              longa  \n",
              "4357        3              longa  \n",
              "4358        4              longa  \n",
              "\n",
              "[4359 rows x 11 columns]"
            ],
            "text/html": [
              "\n",
              "  <div id=\"df-642072da-61db-4cc9-8d81-5b6fe58f44cb\">\n",
              "    <div class=\"colab-df-container\">\n",
              "      <div>\n",
              "<style scoped>\n",
              "    .dataframe tbody tr th:only-of-type {\n",
              "        vertical-align: middle;\n",
              "    }\n",
              "\n",
              "    .dataframe tbody tr th {\n",
              "        vertical-align: top;\n",
              "    }\n",
              "\n",
              "    .dataframe thead th {\n",
              "        text-align: right;\n",
              "    }\n",
              "</style>\n",
              "<table border=\"1\" class=\"dataframe\">\n",
              "  <thead>\n",
              "    <tr style=\"text-align: right;\">\n",
              "      <th></th>\n",
              "      <th>Sede</th>\n",
              "      <th>Ano</th>\n",
              "      <th>Distancia</th>\n",
              "      <th>Estilo</th>\n",
              "      <th>Revesamento?</th>\n",
              "      <th>Genero</th>\n",
              "      <th>Equipe</th>\n",
              "      <th>Atleta</th>\n",
              "      <th>Tempo</th>\n",
              "      <th>Posicao</th>\n",
              "      <th>CategoriaDistancia</th>\n",
              "    </tr>\n",
              "  </thead>\n",
              "  <tbody>\n",
              "    <tr>\n",
              "      <th>0</th>\n",
              "      <td>Tokyo</td>\n",
              "      <td>2020</td>\n",
              "      <td>100</td>\n",
              "      <td>Costas</td>\n",
              "      <td>0</td>\n",
              "      <td>Masculino</td>\n",
              "      <td>ROC</td>\n",
              "      <td>Evgeny Rylov</td>\n",
              "      <td>51.98</td>\n",
              "      <td>1</td>\n",
              "      <td>curta</td>\n",
              "    </tr>\n",
              "    <tr>\n",
              "      <th>1</th>\n",
              "      <td>Tokyo</td>\n",
              "      <td>2020</td>\n",
              "      <td>100</td>\n",
              "      <td>Costas</td>\n",
              "      <td>0</td>\n",
              "      <td>Masculino</td>\n",
              "      <td>ROC</td>\n",
              "      <td>Kliment Kolesnikov</td>\n",
              "      <td>52</td>\n",
              "      <td>2</td>\n",
              "      <td>curta</td>\n",
              "    </tr>\n",
              "    <tr>\n",
              "      <th>2</th>\n",
              "      <td>Tokyo</td>\n",
              "      <td>2020</td>\n",
              "      <td>100</td>\n",
              "      <td>Costas</td>\n",
              "      <td>0</td>\n",
              "      <td>Masculino</td>\n",
              "      <td>USA</td>\n",
              "      <td>Ryan Murphy</td>\n",
              "      <td>52.19</td>\n",
              "      <td>3</td>\n",
              "      <td>curta</td>\n",
              "    </tr>\n",
              "    <tr>\n",
              "      <th>3</th>\n",
              "      <td>Tokyo</td>\n",
              "      <td>2020</td>\n",
              "      <td>100</td>\n",
              "      <td>Costas</td>\n",
              "      <td>0</td>\n",
              "      <td>Masculino</td>\n",
              "      <td>ITA</td>\n",
              "      <td>Thomas Ceccon</td>\n",
              "      <td>52.3</td>\n",
              "      <td>4</td>\n",
              "      <td>curta</td>\n",
              "    </tr>\n",
              "    <tr>\n",
              "      <th>4</th>\n",
              "      <td>Tokyo</td>\n",
              "      <td>2020</td>\n",
              "      <td>100</td>\n",
              "      <td>Costas</td>\n",
              "      <td>0</td>\n",
              "      <td>Masculino</td>\n",
              "      <td>CHN</td>\n",
              "      <td>Jiayu Xu</td>\n",
              "      <td>52.51</td>\n",
              "      <td>4</td>\n",
              "      <td>curta</td>\n",
              "    </tr>\n",
              "    <tr>\n",
              "      <th>...</th>\n",
              "      <td>...</td>\n",
              "      <td>...</td>\n",
              "      <td>...</td>\n",
              "      <td>...</td>\n",
              "      <td>...</td>\n",
              "      <td>...</td>\n",
              "      <td>...</td>\n",
              "      <td>...</td>\n",
              "      <td>...</td>\n",
              "      <td>...</td>\n",
              "      <td>...</td>\n",
              "    </tr>\n",
              "    <tr>\n",
              "      <th>4354</th>\n",
              "      <td>Stockholm</td>\n",
              "      <td>1912</td>\n",
              "      <td>400</td>\n",
              "      <td>Livre</td>\n",
              "      <td>1</td>\n",
              "      <td>Feminino</td>\n",
              "      <td>SWE</td>\n",
              "      <td>Greta Carlsson, Vera Thulin, Sonja Johnsson, G...</td>\n",
              "      <td>NaN</td>\n",
              "      <td>5</td>\n",
              "      <td>media</td>\n",
              "    </tr>\n",
              "    <tr>\n",
              "      <th>4355</th>\n",
              "      <td>Stockholm</td>\n",
              "      <td>1912</td>\n",
              "      <td>800</td>\n",
              "      <td>Livre</td>\n",
              "      <td>1</td>\n",
              "      <td>Masculino</td>\n",
              "      <td>AUS</td>\n",
              "      <td>Malcolm Champion, Cecil Healy, Harold H. Hardw...</td>\n",
              "      <td>00:10:11.200000</td>\n",
              "      <td>1</td>\n",
              "      <td>longa</td>\n",
              "    </tr>\n",
              "    <tr>\n",
              "      <th>4356</th>\n",
              "      <td>Stockholm</td>\n",
              "      <td>1912</td>\n",
              "      <td>800</td>\n",
              "      <td>Livre</td>\n",
              "      <td>1</td>\n",
              "      <td>Masculino</td>\n",
              "      <td>USA</td>\n",
              "      <td>Duke Paoa Kahanamoku, Harry J. Hebner, Perry M...</td>\n",
              "      <td>00:10:20.200000</td>\n",
              "      <td>2</td>\n",
              "      <td>longa</td>\n",
              "    </tr>\n",
              "    <tr>\n",
              "      <th>4357</th>\n",
              "      <td>Stockholm</td>\n",
              "      <td>1912</td>\n",
              "      <td>800</td>\n",
              "      <td>Livre</td>\n",
              "      <td>1</td>\n",
              "      <td>Masculino</td>\n",
              "      <td>GBR</td>\n",
              "      <td>Thomas Sidney Battersby, Henry Taylor, John Ga...</td>\n",
              "      <td>00:10:28.600000</td>\n",
              "      <td>3</td>\n",
              "      <td>longa</td>\n",
              "    </tr>\n",
              "    <tr>\n",
              "      <th>4358</th>\n",
              "      <td>Stockholm</td>\n",
              "      <td>1912</td>\n",
              "      <td>800</td>\n",
              "      <td>Livre</td>\n",
              "      <td>1</td>\n",
              "      <td>Masculino</td>\n",
              "      <td>GER</td>\n",
              "      <td>Georg Kunisch, Kurt Bretting, Oscar Schiele, M...</td>\n",
              "      <td>00:10:37.000000</td>\n",
              "      <td>4</td>\n",
              "      <td>longa</td>\n",
              "    </tr>\n",
              "  </tbody>\n",
              "</table>\n",
              "<p>4359 rows × 11 columns</p>\n",
              "</div>\n",
              "      <button class=\"colab-df-convert\" onclick=\"convertToInteractive('df-642072da-61db-4cc9-8d81-5b6fe58f44cb')\"\n",
              "              title=\"Convert this dataframe to an interactive table.\"\n",
              "              style=\"display:none;\">\n",
              "        \n",
              "  <svg xmlns=\"http://www.w3.org/2000/svg\" height=\"24px\"viewBox=\"0 0 24 24\"\n",
              "       width=\"24px\">\n",
              "    <path d=\"M0 0h24v24H0V0z\" fill=\"none\"/>\n",
              "    <path d=\"M18.56 5.44l.94 2.06.94-2.06 2.06-.94-2.06-.94-.94-2.06-.94 2.06-2.06.94zm-11 1L8.5 8.5l.94-2.06 2.06-.94-2.06-.94L8.5 2.5l-.94 2.06-2.06.94zm10 10l.94 2.06.94-2.06 2.06-.94-2.06-.94-.94-2.06-.94 2.06-2.06.94z\"/><path d=\"M17.41 7.96l-1.37-1.37c-.4-.4-.92-.59-1.43-.59-.52 0-1.04.2-1.43.59L10.3 9.45l-7.72 7.72c-.78.78-.78 2.05 0 2.83L4 21.41c.39.39.9.59 1.41.59.51 0 1.02-.2 1.41-.59l7.78-7.78 2.81-2.81c.8-.78.8-2.07 0-2.86zM5.41 20L4 18.59l7.72-7.72 1.47 1.35L5.41 20z\"/>\n",
              "  </svg>\n",
              "      </button>\n",
              "      \n",
              "  <style>\n",
              "    .colab-df-container {\n",
              "      display:flex;\n",
              "      flex-wrap:wrap;\n",
              "      gap: 12px;\n",
              "    }\n",
              "\n",
              "    .colab-df-convert {\n",
              "      background-color: #E8F0FE;\n",
              "      border: none;\n",
              "      border-radius: 50%;\n",
              "      cursor: pointer;\n",
              "      display: none;\n",
              "      fill: #1967D2;\n",
              "      height: 32px;\n",
              "      padding: 0 0 0 0;\n",
              "      width: 32px;\n",
              "    }\n",
              "\n",
              "    .colab-df-convert:hover {\n",
              "      background-color: #E2EBFA;\n",
              "      box-shadow: 0px 1px 2px rgba(60, 64, 67, 0.3), 0px 1px 3px 1px rgba(60, 64, 67, 0.15);\n",
              "      fill: #174EA6;\n",
              "    }\n",
              "\n",
              "    [theme=dark] .colab-df-convert {\n",
              "      background-color: #3B4455;\n",
              "      fill: #D2E3FC;\n",
              "    }\n",
              "\n",
              "    [theme=dark] .colab-df-convert:hover {\n",
              "      background-color: #434B5C;\n",
              "      box-shadow: 0px 1px 3px 1px rgba(0, 0, 0, 0.15);\n",
              "      filter: drop-shadow(0px 1px 2px rgba(0, 0, 0, 0.3));\n",
              "      fill: #FFFFFF;\n",
              "    }\n",
              "  </style>\n",
              "\n",
              "      <script>\n",
              "        const buttonEl =\n",
              "          document.querySelector('#df-642072da-61db-4cc9-8d81-5b6fe58f44cb button.colab-df-convert');\n",
              "        buttonEl.style.display =\n",
              "          google.colab.kernel.accessAllowed ? 'block' : 'none';\n",
              "\n",
              "        async function convertToInteractive(key) {\n",
              "          const element = document.querySelector('#df-642072da-61db-4cc9-8d81-5b6fe58f44cb');\n",
              "          const dataTable =\n",
              "            await google.colab.kernel.invokeFunction('convertToInteractive',\n",
              "                                                     [key], {});\n",
              "          if (!dataTable) return;\n",
              "\n",
              "          const docLinkHtml = 'Like what you see? Visit the ' +\n",
              "            '<a target=\"_blank\" href=https://colab.research.google.com/notebooks/data_table.ipynb>data table notebook</a>'\n",
              "            + ' to learn more about interactive tables.';\n",
              "          element.innerHTML = '';\n",
              "          dataTable['output_type'] = 'display_data';\n",
              "          await google.colab.output.renderOutput(dataTable, element);\n",
              "          const docLink = document.createElement('div');\n",
              "          docLink.innerHTML = docLinkHtml;\n",
              "          element.appendChild(docLink);\n",
              "        }\n",
              "      </script>\n",
              "    </div>\n",
              "  </div>\n",
              "  "
            ]
          },
          "metadata": {},
          "execution_count": 46
        }
      ]
    },
    {
      "cell_type": "markdown",
      "source": [
        "7 e' saporr ae"
      ],
      "metadata": {
        "id": "u-FUMz7BtYox"
      }
    },
    {
      "cell_type": "markdown",
      "source": [],
      "metadata": {
        "id": "4KpO5wpetu7h"
      }
    }
  ]
}